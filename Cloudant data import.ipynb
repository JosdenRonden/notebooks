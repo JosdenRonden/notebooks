{
    "cells": [
        {
            "cell_type": "markdown", 
            "metadata": {}, 
            "source": "This notebook is intended for Python 2 with Spark 2.0. It uses SparkSession to load a CSV file stored in Bluemix object storage into a dataframe, filters that data, then writes the filtered data to a previoulsy created Cloudant database. This example notebook loads a CSV file containing Child Care providers in Massachusetts downloaded from https://data.mass.gov/Education/Program-list-for-Child-Care-Search-1-15-2015/cb6m-ccic\n\nThis first cell simply verifies the version of Spark you are using."
        }, 
        {
            "cell_type": "code", 
            "metadata": {
                "collapsed": false
            }, 
            "outputs": [
                {
                    "metadata": {}, 
                    "data": {
                        "text/plain": "u'2.0.2'"
                    }, 
                    "execution_count": 1, 
                    "output_type": "execute_result"
                }
            ], 
            "source": "spark.version", 
            "execution_count": 1
        }, 
        {
            "cell_type": "markdown", 
            "metadata": {}, 
            "source": "Cell 2: Replace the contents of the first cell by following these steps:\n1. Displaying the Files slide out panel.\n2. Select the Insert to code menu for your file, and select Insert Credentials.\n3. Replace the name of the inserted array with credentials_621 as referenced in the rest of the code. "
        }, 
        {
            "cell_type": "code", 
            "metadata": {
                "collapsed": false
            }, 
            "outputs": [], 
            "source": "# The code was removed by DSX for sharing.", 
            "execution_count": 2
        }, 
        {
            "cell_type": "markdown", 
            "metadata": {}, 
            "source": "Cell 3: The following cell imports SparkSession from pyspark.sql. SparkSession is the entry point to programming Spark with the Dataset and DataFrame API.\nNext, the code defines a variable to set the credentials for authentication for the Bluemix Object Storage."
        }, 
        {
            "cell_type": "code", 
            "metadata": {
                "collapsed": false
            }, 
            "outputs": [], 
            "source": "# The code was removed by DSX for sharing.", 
            "execution_count": 3
        }, 
        {
            "cell_type": "markdown", 
            "metadata": {}, 
            "source": "Cell 4: The following cell reads the CSV file into a data frame, infers the schema, and then displays the first two entries."
        }, 
        {
            "cell_type": "code", 
            "metadata": {
                "collapsed": false
            }, 
            "outputs": [
                {
                    "metadata": {}, 
                    "data": {
                        "text/plain": "[Row(ProgramName=u'Little Prince and Princess Day School', ProgramType=u'Large Group and School Age Child Care', FirstIssueDate=datetime.datetime(1983, 9, 26, 0, 0), Capacity=43, Licensor=u'Collyer, Renee - 5G011', DirectorFirstName=u'Ruthie', DirectorLastName=u'Harris', Address1=u'877 N Main St', Address2=None, City=u'Brockton', State=u'MA', Zip=u'02301-1623', ProviderPhone=u'5085872483', FaxNumber=None, MailingAddress1=None, MailingAddress2=None, MailingCity=None, MailingState=u'  ', MailingZipcode=None, eMailAddress=u'ruthieharris2@verizon.net', Latitude=42.106159, Longitude=-71.026859, Transportation=u'Transportation Provided; Walking Distance to School; Near Public Transportation; On Public School Bus Route', Meals=u'Breakfast; Morning Snack; Afternoon Snack; Special Meal Request; Parents Provide Food; Parents Prov', FinancialAssistance=None, SpecialNeeds=u'Experience; ADD/ADHD; Asthma/Allergies; Behavioral; Developmental; Emotional/Social; Learning; Medi', Session1Name=u'Session 1', Session1Accepts_Children=u'Full-Time', Session1Duration=u'Full Year', Session1Drop_IN=u'No', Session1Bef_School=u'No', Session1Rotating=u'No', Session1Open_Holidays=u'No', Session1Temp_Emerg=u'No', Session1After_School=u'No', Session2Name=None, Session2Accepts_Children=None, Session2Duration=None, Session2Drop_IN=None, Session2Bef_School=None, Session2Rotating=None, Session2Open_Holidays=None, Session2Temp_Emerg=None, Session2After_School=None, Session3Name=None, Session3Accepts_Children=None, Session3Duration=None, Session3Drop_IN=None, Session3Bef_School=None, Session3Rotating=None, Session3Open_Holidays=None, Session3Temp_Emerg=None, Session3After_School=None),\n Row(ProgramName=u'Lutheran Church Nursery School', ProgramType=u'Large Group and School Age Child Care', FirstIssueDate=datetime.datetime(1990, 8, 6, 0, 0), Capacity=44, Licensor=u'Cavanagh, Deborah - 5GS01', DirectorFirstName=u'Judy', DirectorLastName=u'Leonard', Address1=u'77 Rockland St', Address2=None, City=u'Hanover', State=u'MA', Zip=u'02339-2220', ProviderPhone=u'7818266107', FaxNumber=7818265122, MailingAddress1=u'PO Box 103', MailingAddress2=None, MailingCity=u'Hanover', MailingState=u'MA', MailingZipcode=u'02339-0103', eMailAddress=u'lutherannurseryschool@verizon.net', Latitude=42.114496, Longitude=-70.826254, Transportation=None, Meals=u'Morning Snack; Afternoon Snack', FinancialAssistance=u'Sibling Discount', SpecialNeeds=None, Session1Name=u'Session 1', Session1Accepts_Children=u'Part-Time', Session1Duration=u'School Year', Session1Drop_IN=u'No', Session1Bef_School=u'No', Session1Rotating=u'No', Session1Open_Holidays=u'No', Session1Temp_Emerg=u'No', Session1After_School=u'No', Session2Name=u'Session 2', Session2Accepts_Children=u'Full-Time', Session2Duration=u'Full Year', Session2Drop_IN=u'No', Session2Bef_School=u'No', Session2Rotating=u'No', Session2Open_Holidays=u'No', Session2Temp_Emerg=u'No', Session2After_School=u'No', Session3Name=None, Session3Accepts_Children=None, Session3Duration=None, Session3Drop_IN=None, Session3Bef_School=None, Session3Rotating=None, Session3Open_Holidays=None, Session3Temp_Emerg=None, Session3After_School=None)]"
                    }, 
                    "execution_count": 4, 
                    "output_type": "execute_result"
                }
            ], 
            "source": "massdata = spark.read\\\n  .format('org.apache.spark.sql.execution.datasources.csv.CSVFileFormat')\\\n  .option('header', 'true')\\\n  .option('timestampFormat', 'MM/dd/yyyy')\\\n  .option('inferSchema', 'true')\\\n  .load('swift://' + credentials_621['container'] + '.' + name + '/' + credentials_621['filename'])\nmassdata.take(2)", 
            "execution_count": 4
        }, 
        {
            "cell_type": "markdown", 
            "metadata": {}, 
            "source": "Cell 5: The following cell prints the schema and a record count of the data frame contents."
        }, 
        {
            "cell_type": "code", 
            "metadata": {
                "collapsed": false
            }, 
            "outputs": [
                {
                    "text": "root\n |-- ProgramName: string (nullable = true)\n |-- ProgramType: string (nullable = true)\n |-- FirstIssueDate: timestamp (nullable = true)\n |-- Capacity: integer (nullable = true)\n |-- Licensor: string (nullable = true)\n |-- DirectorFirstName: string (nullable = true)\n |-- DirectorLastName: string (nullable = true)\n |-- Address1: string (nullable = true)\n |-- Address2: string (nullable = true)\n |-- City: string (nullable = true)\n |-- State: string (nullable = true)\n |-- Zip: string (nullable = true)\n |-- ProviderPhone: string (nullable = true)\n |-- FaxNumber: long (nullable = true)\n |-- MailingAddress1: string (nullable = true)\n |-- MailingAddress2: string (nullable = true)\n |-- MailingCity: string (nullable = true)\n |-- MailingState: string (nullable = true)\n |-- MailingZipcode: string (nullable = true)\n |-- eMailAddress: string (nullable = true)\n |-- Latitude: double (nullable = true)\n |-- Longitude: double (nullable = true)\n |-- Transportation: string (nullable = true)\n |-- Meals: string (nullable = true)\n |-- FinancialAssistance: string (nullable = true)\n |-- SpecialNeeds: string (nullable = true)\n |-- Session1Name: string (nullable = true)\n |-- Session1Accepts_Children: string (nullable = true)\n |-- Session1Duration: string (nullable = true)\n |-- Session1Drop_IN: string (nullable = true)\n |-- Session1Bef_School: string (nullable = true)\n |-- Session1Rotating: string (nullable = true)\n |-- Session1Open_Holidays: string (nullable = true)\n |-- Session1Temp_Emerg: string (nullable = true)\n |-- Session1After_School: string (nullable = true)\n |-- Session2Name: string (nullable = true)\n |-- Session2Accepts_Children: string (nullable = true)\n |-- Session2Duration: string (nullable = true)\n |-- Session2Drop_IN: string (nullable = true)\n |-- Session2Bef_School: string (nullable = true)\n |-- Session2Rotating: string (nullable = true)\n |-- Session2Open_Holidays: string (nullable = true)\n |-- Session2Temp_Emerg: string (nullable = true)\n |-- Session2After_School: string (nullable = true)\n |-- Session3Name: string (nullable = true)\n |-- Session3Accepts_Children: string (nullable = true)\n |-- Session3Duration: string (nullable = true)\n |-- Session3Drop_IN: string (nullable = true)\n |-- Session3Bef_School: string (nullable = true)\n |-- Session3Rotating: string (nullable = true)\n |-- Session3Open_Holidays: string (nullable = true)\n |-- Session3Temp_Emerg: string (nullable = true)\n |-- Session3After_School: string (nullable = true)\n\n", 
                    "output_type": "stream", 
                    "name": "stdout"
                }, 
                {
                    "metadata": {}, 
                    "data": {
                        "text/plain": "8282"
                    }, 
                    "execution_count": 5, 
                    "output_type": "execute_result"
                }
            ], 
            "source": "massdata.printSchema()\nmassdata.count()", 
            "execution_count": 5
        }, 
        {
            "cell_type": "markdown", 
            "metadata": {}, 
            "source": "Cell 6: The following cell displays the first 30 values in the Session1Name field. Notice that there are null values."
        }, 
        {
            "cell_type": "code", 
            "metadata": {
                "collapsed": false
            }, 
            "outputs": [
                {
                    "text": "+------------+\n|Session1Name|\n+------------+\n|   Session 1|\n|   Session 1|\n|   Session 1|\n|   Session 1|\n|   Session 1|\n|   Session 1|\n|   Session 1|\n|   Session 1|\n|   Session 3|\n|   Session 1|\n|   Session 1|\n|   Session 1|\n|   Session 1|\n|   Session 1|\n|   Session 1|\n|   Session 1|\n|   Session 1|\n|   Session 1|\n|   Session 3|\n|   Session 1|\n|   Session 1|\n|   Session 1|\n|   Session 1|\n|        null|\n|   Session 3|\n|   Session 1|\n|   Session 1|\n|        null|\n|   Session 1|\n|   Session 1|\n+------------+\nonly showing top 30 rows\n\n", 
                    "output_type": "stream", 
                    "name": "stdout"
                }
            ], 
            "source": "massdata.select(\"Session1Name\").show(30)", 
            "execution_count": 6
        }, 
        {
            "cell_type": "markdown", 
            "metadata": {}, 
            "source": "Cell 7: The following cell filters the data to just those facilities that have a specified Session1Name. Then it displays the first two entries and a count of the filtered data."
        }, 
        {
            "cell_type": "code", 
            "metadata": {
                "collapsed": false
            }, 
            "outputs": [
                {
                    "text": "+--------------------+--------------------+--------------------+--------+--------------------+-----------------+----------------+--------------+--------+--------+-----+----------+-------------+----------+---------------+---------------+-----------+------------+--------------+--------------------+---------+----------+--------------------+--------------------+-------------------+--------------------+------------+------------------------+----------------+---------------+------------------+----------------+---------------------+------------------+--------------------+------------+------------------------+----------------+---------------+------------------+----------------+---------------------+------------------+--------------------+------------+------------------------+----------------+---------------+------------------+----------------+---------------------+------------------+--------------------+\n|         ProgramName|         ProgramType|      FirstIssueDate|Capacity|            Licensor|DirectorFirstName|DirectorLastName|      Address1|Address2|    City|State|       Zip|ProviderPhone| FaxNumber|MailingAddress1|MailingAddress2|MailingCity|MailingState|MailingZipcode|        eMailAddress| Latitude| Longitude|      Transportation|               Meals|FinancialAssistance|        SpecialNeeds|Session1Name|Session1Accepts_Children|Session1Duration|Session1Drop_IN|Session1Bef_School|Session1Rotating|Session1Open_Holidays|Session1Temp_Emerg|Session1After_School|Session2Name|Session2Accepts_Children|Session2Duration|Session2Drop_IN|Session2Bef_School|Session2Rotating|Session2Open_Holidays|Session2Temp_Emerg|Session2After_School|Session3Name|Session3Accepts_Children|Session3Duration|Session3Drop_IN|Session3Bef_School|Session3Rotating|Session3Open_Holidays|Session3Temp_Emerg|Session3After_School|\n+--------------------+--------------------+--------------------+--------+--------------------+-----------------+----------------+--------------+--------+--------+-----+----------+-------------+----------+---------------+---------------+-----------+------------+--------------+--------------------+---------+----------+--------------------+--------------------+-------------------+--------------------+------------+------------------------+----------------+---------------+------------------+----------------+---------------------+------------------+--------------------+------------+------------------------+----------------+---------------+------------------+----------------+---------------------+------------------+--------------------+------------+------------------------+----------------+---------------+------------------+----------------+---------------------+------------------+--------------------+\n|Little Prince and...|Large Group and S...|1983-09-26 00:00:...|      43|Collyer, Renee - ...|           Ruthie|          Harris| 877 N Main St|    null|Brockton|   MA|02301-1623|   5085872483|      null|           null|           null|       null|            |          null|ruthieharris2@ver...|42.106159|-71.026859|Transportation Pr...|Breakfast; Mornin...|               null|Experience; ADD/A...|   Session 1|               Full-Time|       Full Year|             No|                No|              No|                   No|                No|                  No|        null|                    null|            null|           null|              null|            null|                 null|              null|                null|        null|                    null|            null|           null|              null|            null|                 null|              null|                null|\n|Lutheran Church N...|Large Group and S...|1990-08-06 00:00:...|      44|Cavanagh, Deborah...|             Judy|         Leonard|77 Rockland St|    null| Hanover|   MA|02339-2220|   7818266107|7818265122|     PO Box 103|           null|    Hanover|          MA|    02339-0103|lutherannurserysc...|42.114496|-70.826254|                null|Morning Snack; Af...|   Sibling Discount|                null|   Session 1|               Part-Time|     School Year|             No|                No|              No|                   No|                No|                  No|   Session 2|               Full-Time|       Full Year|             No|                No|              No|                   No|                No|                  No|        null|                    null|            null|           null|              null|            null|                 null|              null|                null|\n+--------------------+--------------------+--------------------+--------+--------------------+-----------------+----------------+--------------+--------+--------+-----+----------+-------------+----------+---------------+---------------+-----------+------------+--------------+--------------------+---------+----------+--------------------+--------------------+-------------------+--------------------+------------+------------------------+----------------+---------------+------------------+----------------+---------------------+------------------+--------------------+------------+------------------------+----------------+---------------+------------------+----------------+---------------------+------------------+--------------------+------------+------------------------+----------------+---------------+------------------+----------------+---------------------+------------------+--------------------+\nonly showing top 2 rows\n\n", 
                    "output_type": "stream", 
                    "name": "stdout"
                }, 
                {
                    "metadata": {}, 
                    "data": {
                        "text/plain": "6780"
                    }, 
                    "execution_count": 7, 
                    "output_type": "execute_result"
                }
            ], 
            "source": "sessiondata = massdata.filter(massdata.Session1Name.isNotNull())\nsessiondata.show(2)\nsessiondata.count()", 
            "execution_count": 7
        }, 
        {
            "cell_type": "markdown", 
            "metadata": {}, 
            "source": "Cell 8: The following cell displays the first 30 values in the Session1Name field. Notice that there are NO null values."
        }, 
        {
            "cell_type": "code", 
            "metadata": {
                "collapsed": false
            }, 
            "outputs": [
                {
                    "text": "+------------+\n|Session1Name|\n+------------+\n|   Session 1|\n|   Session 1|\n|   Session 1|\n|   Session 1|\n|   Session 1|\n|   Session 1|\n|   Session 1|\n|   Session 1|\n|   Session 3|\n|   Session 1|\n|   Session 1|\n|   Session 1|\n|   Session 1|\n|   Session 1|\n|   Session 1|\n|   Session 1|\n|   Session 1|\n|   Session 1|\n|   Session 3|\n|   Session 1|\n|   Session 1|\n|   Session 1|\n|   Session 1|\n|   Session 3|\n|   Session 1|\n|   Session 1|\n|   Session 1|\n|   Session 1|\n|   Session 2|\n|   Session 1|\n+------------+\nonly showing top 30 rows\n\n", 
                    "output_type": "stream", 
                    "name": "stdout"
                }
            ], 
            "source": "sessiondata.select(\"Session1Name\").show(30)", 
            "execution_count": 8
        }, 
        {
            "cell_type": "markdown", 
            "metadata": {}, 
            "source": "Cell 9: The following cell writes the contents of the sessiondata data frame to a Cloudant database called child_care. Note: The Cloudant database MUST already exist."
        }, 
        {
            "cell_type": "code", 
            "metadata": {
                "collapsed": false
            }, 
            "outputs": [], 
            "source": "sessiondata.write.format(\"com.cloudant.spark\") \\\n  .option(\"cloudant.host\",\"345b1802-97ce-40d8-8e4a-bca356c4eadf-bluemix.cloudant.com\") \\\n  .option(\"cloudant.username\",\"345b1802-97ce-40d8-8e4a-bca356c4eadf-bluemix\") \\\n  .option(\"cloudant.password\",\"d86064e90676b18bcd88d49c0e7070eac4d3f36b0a50d1c9c5ee4919583b24ce\") \\\n  .save(\"child_care\")", 
            "execution_count": 9
        }, 
        {
            "cell_type": "code", 
            "metadata": {
                "collapsed": true
            }, 
            "outputs": [], 
            "source": "", 
            "execution_count": null
        }
    ], 
    "nbformat": 4, 
    "metadata": {
        "kernelspec": {
            "display_name": "Python 2 with Spark 2.0", 
            "name": "python2-spark20", 
            "language": "python"
        }, 
        "language_info": {
            "version": "2.7.11", 
            "codemirror_mode": {
                "version": 2, 
                "name": "ipython"
            }, 
            "mimetype": "text/x-python", 
            "nbconvert_exporter": "python", 
            "file_extension": ".py", 
            "name": "python", 
            "pygments_lexer": "ipython2"
        }
    }, 
    "nbformat_minor": 0
}